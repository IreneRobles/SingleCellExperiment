{
 "cells": [
  {
   "cell_type": "code",
   "execution_count": 1,
   "metadata": {},
   "outputs": [
    {
     "name": "stderr",
     "output_type": "stream",
     "text": [
      "┌ Info: Precompiling JLD [4138dd39-2aa7-5051-a626-17a0bb65d9c8]\n",
      "└ @ Base loading.jl:1317\n",
      "┌ Info: Precompiling ScikitLearn [3646fa90-6ef7-5e7e-9f22-8aca16db6324]\n",
      "└ @ Base loading.jl:1317\n",
      "┌ Info: Precompiling NoLongerProblems [82dfab41-d1ab-4f21-ac61-499025515bd6]\n",
      "└ @ Base loading.jl:1317\n",
      "┌ Info: Precompiling NoLongerProblems_Pandas [5d29c26c-ce79-4baf-a522-6e725d77eda7]\n",
      "└ @ Base loading.jl:1317\n",
      "┌ Info: Precompiling Seaborn [d2ef9438-c967-53ab-8060-373fdd9e13eb]\n",
      "└ @ Base loading.jl:1317\n",
      "┌ Info: Precompiling PrettyPlotting [a39d01c8-e809-492b-946e-4fa293b4c7e6]\n",
      "└ @ Base loading.jl:1317\n",
      "┌ Info: Precompiling MultipleTesting [f8716d33-7c4a-5097-896f-ce0ecbd3ef6b]\n",
      "└ @ Base loading.jl:1317\n",
      "┌ Info: Precompiling HypothesisTests [09f84164-cd44-5f33-b23f-e6b0d136a0d5]\n",
      "└ @ Base loading.jl:1317\n",
      "WARNING: both Pandas and DataFrames export \"DataFrame\"; uses of it in module NoLongerProblems_Pandas must be qualified\n"
     ]
    },
    {
     "data": {
      "text/plain": [
       "Main.SingleCellExperiment"
      ]
     },
     "execution_count": 1,
     "metadata": {},
     "output_type": "execute_result"
    }
   ],
   "source": [
    "include(\"SingleCellExperiment.jl\")"
   ]
  },
  {
   "cell_type": "code",
   "execution_count": null,
   "metadata": {},
   "outputs": [],
   "source": []
  }
 ],
 "metadata": {
  "kernelspec": {
   "display_name": "Julia 1.6.0",
   "language": "julia",
   "name": "julia-1.6"
  },
  "language_info": {
   "file_extension": ".jl",
   "mimetype": "application/julia",
   "name": "julia",
   "version": "1.6.0"
  }
 },
 "nbformat": 4,
 "nbformat_minor": 2
}
